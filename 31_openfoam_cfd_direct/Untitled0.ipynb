{
 "metadata": {
  "name": "",
  "signature": "sha256:5f79e74a6be6e75af59a4e7d5c4b9bff225f1488d217d25fffc306b978b0a87f"
 },
 "nbformat": 3,
 "nbformat_minor": 0,
 "worksheets": []
}