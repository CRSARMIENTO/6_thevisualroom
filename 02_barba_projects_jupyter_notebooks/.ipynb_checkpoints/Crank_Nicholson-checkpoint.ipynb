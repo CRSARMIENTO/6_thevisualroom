{
 "cells": [
  {
   "cell_type": "code",
   "execution_count": 1,
   "metadata": {
    "collapsed": false
   },
   "outputs": [
    {
     "data": {
      "text/html": [
       "<h1>Test Tri-Diagonal Matrix Algorithm on Fourier's Equation using Crank-Nicolson</h1></br><div id=\"toc\"></div>\n",
       "<script src=\"https://kmahelona.github.io/ipython_notebook_goodies/ipython_notebook_toc.js\" defer></script>"
      ],
      "text/plain": [
       "<IPython.core.display.HTML object>"
      ]
     },
     "execution_count": 1,
     "metadata": {},
     "output_type": "execute_result"
    }
   ],
   "source": [
    "from IPython.display import HTML \n",
    "s=\"\"\"<h1>Test Tri-Diagonal Matrix Algorithm on Fourier's Equation using Crank-Nicolson</h1></br><div id=\"toc\"></div>\n",
    "<script src=\"https://kmahelona.github.io/ipython_notebook_goodies/ipython_notebook_toc.js\" defer></script>\"\"\";\n",
    "h=HTML(s); h"
   ]
  },
  {
   "cell_type": "markdown",
   "metadata": {},
   "source": [
    "## Check With Jacobi Method"
   ]
  },
  {
   "cell_type": "code",
   "execution_count": 3,
   "metadata": {
    "collapsed": false
   },
   "outputs": [],
   "source": [
    "def laplace_equation_numerical_3(error_target, niter, nx, ny, xmax, ymax):\n",
    "\n",
    "    \"\"\"\n",
    "    Returns the velocity field and distance for 2D linear convection\n",
    "    \"\"\"\n",
    "    # Increments:\n",
    "    dx = xmax/(nx-1)\n",
    "    dy = ymax/(ny-1)\n",
    "\n",
    "    # Initialise data structures:\n",
    "    import numpy as np\n",
    "    p = np.zeros(((nx,ny,niter)))\n",
    "    x = np.zeros(nx)\n",
    "    y = np.zeros(ny)\n",
    "    jpos = np.zeros(ny)\n",
    "    jneg = np.zeros(ny)\n",
    "\n",
    "    # X Loop\n",
    "    for i in range(0,nx):\n",
    "      x[i] = i*dx\n",
    "\n",
    "    # Y Loop\n",
    "    for j in range(0,ny):\n",
    "      y[j] = j*dy\n",
    "\n",
    "    # Initial conditions\n",
    "    p[:,:,0] = 0\n",
    "\n",
    "    # Dirichlet Boundary Conditions:\n",
    "\n",
    "    # p boundary, left:\n",
    "    p[0,:,:] = 0\n",
    "\n",
    "    # p boundary, right:\n",
    "    for j in range(0,ny):\n",
    "      p[nx-1,j,:] = y[j] \n",
    "\n",
    "    # von Neumann Boundary Conditions:\n",
    "\n",
    "    # Values for correction at boundaries:\n",
    "    for j in range(0,ny):\n",
    "        jpos[j] = j + 1\n",
    "        jneg[j] = j - 1\n",
    "\n",
    "    # Set Reflection: \n",
    "    jpos[ny-1] = ny-2 \n",
    "    jneg[0] = 1 \n",
    "\n",
    "    while True: \n",
    "      for n in range(0,niter-1):\n",
    "        for i in range(1,nx-1):\n",
    "          for j in range(0,ny): \n",
    "            p[i,j,n+1] = 0.25*( p[i+1,j,n]+p[i-1,j,n]+p[i,jpos[j],n]+p[i,jneg[j],n] )\n",
    "            \n",
    "        error = (np.sum(np.abs(p[i,j,n+1])-np.abs(p[i,j,n]) ) / \n",
    "                    np.sum(np.abs(p[i,j,n+1]) ))\n",
    "        \n",
    "        if(error < error_target):\n",
    "          print \"n = \" + str(n) + \" completed\"\n",
    "          break\n",
    "      break\n",
    "            \n",
    "    return p, x, y"
   ]
  },
  {
   "cell_type": "code",
   "execution_count": 4,
   "metadata": {
    "collapsed": false
   },
   "outputs": [
    {
     "name": "stdout",
     "output_type": "stream",
     "text": [
      "n = 3129 completed\n"
     ]
    }
   ],
   "source": [
    "p4, x4, y4 = laplace_equation_numerical_3(1.0e-6, 5000, 51, 26, 2.0, 1.0)"
   ]
  },
  {
   "cell_type": "code",
   "execution_count": 5,
   "metadata": {
    "collapsed": false
   },
   "outputs": [],
   "source": [
    "def laplace_equation_numerical_4(error_target, niter, nx, ny, xmax, ymax):\n",
    "\n",
    "    \"\"\"\n",
    "    Returns the velocity field and distance for 2D linear convection\n",
    "    \"\"\"\n",
    "    # Increments:\n",
    "    dx = xmax/(nx-1)\n",
    "    dy = ymax/(ny-1)\n",
    "\n",
    "    # Initialise data structures:\n",
    "    import numpy as np\n",
    "    p = np.zeros(((nx,ny,niter)))\n",
    "    x = np.zeros(nx)\n",
    "    y = np.zeros(ny)\n",
    "    jpos = np.zeros(ny, dtype=np.int)\n",
    "    jneg = np.zeros(ny, dtype=np.int)\n",
    "\n",
    "    # X Loop\n",
    "    for i in range(0,nx):\n",
    "      x[i] = i*dx\n",
    "\n",
    "    # Y Loop\n",
    "    for j in range(0,ny):\n",
    "      y[j] = j*dy\n",
    "\n",
    "    # Initial conditions\n",
    "    p[:,:,0] = 0\n",
    "\n",
    "    # Dirichlet Boundary Conditions:\n",
    "\n",
    "    # p boundary, left:\n",
    "    p[0,:,:] = 0\n",
    "\n",
    "    # p boundary, right:\n",
    "    for j in range(0,ny):\n",
    "      p[nx-1,j,:] = y[j] \n",
    "\n",
    "    # von Neumann Boundary Conditions:\n",
    "\n",
    "    # Values for correction at boundaries:\n",
    "    for j in range(0,ny):\n",
    "        jpos[j] = int(j + 1)\n",
    "        jneg[j] = int(j - 1)\n",
    "\n",
    "    # Set Reflection: \n",
    "    jpos[ny-1] = int(ny-2)\n",
    "    jneg[0] = int(1)\n",
    "    i=1\n",
    "    j=0\n",
    "    while True: \n",
    "      for n in range(0,niter-1):\n",
    "        p[i:nx-1,j:ny,n+1] = 0.25*( p[i+1:nx,j:ny,n]+p[i-1:nx-2,j:ny,n]+\n",
    "                                    p[i:nx-1,jpos[j:ny],n]+p[i:nx-1,jneg[j:ny],n] )       \n",
    "        \n",
    "        error = (np.sum(np.abs(p[i:nx-1,j:ny,n+1])-np.abs(p[i:nx-1,j:ny,n]) ) / \n",
    "                    np.sum(np.abs(p[i:nx-1,j:ny,n+1]) ))\n",
    "        \n",
    "        if(error < error_target):\n",
    "          print \"n = \" + str(n) + \" completed\"\n",
    "          break\n",
    "      break\n",
    "            \n",
    "    return p, x, y"
   ]
  },
  {
   "cell_type": "code",
   "execution_count": 6,
   "metadata": {
    "collapsed": false
   },
   "outputs": [
    {
     "name": "stdout",
     "output_type": "stream",
     "text": [
      "n = 6793 completed\n"
     ]
    }
   ],
   "source": [
    "p5, x5, y5 = laplace_equation_numerical_4(1.0e-6, 8000, 51, 26, 2.0, 1.0)"
   ]
  },
  {
   "cell_type": "code",
   "execution_count": 7,
   "metadata": {
    "collapsed": false
   },
   "outputs": [],
   "source": [
    "def laplace_equation_analytical(INFINITY, NX, NY, XMAX, YMAX):\n",
    "    \n",
    "    from math import pi as PI\n",
    "    import math as ma\n",
    "    import numpy as np\n",
    "    \n",
    "    # Initialise data structures\n",
    "    p_coefficient = np.zeros((NX, NY))\n",
    "    p_analytical = np.zeros((NX, NY))\n",
    "    x = np.zeros(NX)\n",
    "    y = np.zeros(NY)\n",
    "    \n",
    "    # Constants\n",
    "    DX = XMAX/(NX-1)\n",
    "    DY = YMAX/(NY-1)\n",
    "    \n",
    "    # X Loop\n",
    "    for i in range(0,NX):\n",
    "        x[i] = i*DX\n",
    "\n",
    "    # Y Loop\n",
    "    for j in range(0,NY):\n",
    "        y[j] = j*DY\n",
    "    \n",
    "    # Analytical solution\n",
    "    for i in range(0, NX):\n",
    "        for j in range(0, NY):\n",
    "            p_coefficient[i,j] = ( (ma.sinh(1.0*PI*x[i]) * ma.cos(1.0*PI*y[j]) )\n",
    "                         / ( ((1.0*PI)**2.0) * ma.sinh(2.0*PI*1.0) ) )\n",
    "\n",
    "    for m in range(3, INFINITY, 2):\n",
    "        for i in range(0, NX):\n",
    "            for j in range(0, NY):\n",
    "               p_coefficient[i,j] += ( (ma.sinh(m*PI*x[i]) * ma.cos(m*PI*y[j]) )\n",
    "                         / ( ((m*PI)**2.0) * ma.sinh(2.0*PI*m) ) )\n",
    "  \n",
    "    for i in range (0, NX):\n",
    "        for j in range(0, NY):\n",
    "            p_analytical[i,j]= (x[i] / 4.0) - (4.0 * p_coefficient[i,j])\n",
    "        \n",
    "    return p_analytical, x, y"
   ]
  },
  {
   "cell_type": "code",
   "execution_count": 8,
   "metadata": {
    "collapsed": false
   },
   "outputs": [],
   "source": [
    "p3, x3, y3 = laplace_equation_analytical(100, 51, 26, 2.0, 1.0)"
   ]
  },
  {
   "cell_type": "code",
   "execution_count": 9,
   "metadata": {
    "collapsed": false
   },
   "outputs": [],
   "source": [
    "def plot_diffusion(p4,p3,x4,NY,TIME,TITLE):\n",
    "   \"\"\"\n",
    "   Plots the 1D velocity field\n",
    "   \"\"\"\n",
    "   import numpy as np\n",
    "   import matplotlib.pyplot as plt\n",
    "   import matplotlib.cm as cm\n",
    "   plt.figure()\n",
    "   ax=plt.subplot(111)\n",
    "   colour=iter(cm.rainbow(np.linspace(0,5,NY)))\n",
    "   for j in range(0,NY,5):\n",
    "      c=next(colour)\n",
    "      ax.plot(x4,p4[:,j,TIME],'ko', markerfacecolor='none', alpha=0.5, label='j='+str(j)+' numerical')\n",
    "      ax.plot(x4,p3[:,j],linestyle='-',c=c,label='j='+str(j)+' analytical')\n",
    "   box=ax.get_position()\n",
    "   ax.set_position([box.x0, box.y0, box.width*1.5,box.height*1.5])\n",
    "   ax.legend( bbox_to_anchor=(1.02,1), loc=2)\n",
    "   plt.xlabel('x (m)')\n",
    "   plt.ylabel('p (Pa)')\n",
    "   #plt.ylim([0,8.0])\n",
    "   #plt.xlim([0,2.0*PI])\n",
    "   plt.title(TITLE)\n",
    "   plt.show()"
   ]
  },
  {
   "cell_type": "code",
   "execution_count": 10,
   "metadata": {
    "collapsed": false
   },
   "outputs": [
    {
     "data": {
      "image/png": "[encoded data removed]",
      "text/plain": [
       "<matplotlib.figure.Figure at 0x7fdd0019cd90>"
      ]
     },
     "metadata": {},
     "output_type": "display_data"
    }
   ],
   "source": [
    "plot_diffusion(p5,p3,x5,26,6793,'Analytical vs Numerical')"
   ]
  },
  {
   "cell_type": "markdown",
   "metadata": {},
   "source": [
    "## Crank-Nicolson Numerical Scheme\n",
    "\n",
    "Given:\n",
    "\n",
    "$$ r = {\\Delta t \\over {\\Delta x^2}} $$\n",
    "\n",
    "$$ \\left( -{r \\over 2} \\right) u_{i-1}^{n+1} + \\left( {1+r} \\right) u_i^{n+1} + \\left(-{r \\over 2} \\right) u_{i+1}^{n+1} = \\left( {r \\over 2} \\right) u_{i-1}^n + \\left( {1-r} \\right) u_i^n + \\left( {r \\over 2} \\right) u_{i+1}^n $$\n",
    "\n",
    "## Identify Coefficients\n",
    "\n",
    "$$ a_i = -{r \\over 2} $$\n",
    "\n",
    "$$ b_i = {1+r} $$\n",
    "\n",
    "$$ c_i = -{r \\over 2} $$\n",
    "\n",
    "$$ d_i =  \\left( {r \\over 2} \\right) u_{i-1}^n + \\left( {1-r} \\right) u_i^n + \\left( {r \\over 2} \\right) u_{i+1}^n $$"
   ]
  },
  {
   "cell_type": "code",
   "execution_count": 11,
   "metadata": {
    "collapsed": false
   },
   "outputs": [],
   "source": [
    "try:\n",
    "    import numpypy as np # for compatibility with numpy in pypy\n",
    "except:\n",
    "    import numpy as np # if using numpy in cpython\n",
    " \n",
    "## Tri Diagonal Matrix Algorithm(a.k.a Thomas algorithm) solver\n",
    "def TDMAsolver(a, b, c, d):\n",
    "    '''\n",
    "    TDMA solver, a b c d can be NumPy array type or Python list type.\n",
    "    refer to http://en.wikipedia.org/wiki/Tridiagonal_matrix_algorithm\n",
    "    '''\n",
    "    nf = len(a) # number of equations\n",
    "    ac, bc, cc, dc = map(np.array, (a, b, c, d)) # copy the array\n",
    "    for it in xrange(1, nf):\n",
    "        mc = ac[it]/bc[it-1]\n",
    "        bc[it] = bc[it] - mc*cc[it-1]\n",
    "        dc[it] = dc[it] - mc*dc[it-1]\n",
    "\n",
    "    xc = ac\n",
    "    xc[-1] = dc[-1]/bc[-1]\n",
    "\n",
    "    for il in xrange(nf-2, -1, -1):\n",
    "        xc[il] = (dc[il]-cc[il]*xc[il+1])/bc[il]\n",
    "\n",
    "    del bc, cc, dc # delete variables from memory\n",
    "\n",
    "    return xc "
   ]
  },
  {
   "cell_type": "code",
   "execution_count": 12,
   "metadata": {
    "collapsed": false
   },
   "outputs": [],
   "source": [
    "def crank_nicholson(tmax, nx, xmax, sigma):\n",
    "    \n",
    "    from scipy import linalg\n",
    "    \"\"\"\n",
    "    Returns the velocity field and distance for 2D linear convection\n",
    "    \"\"\"\n",
    "    # Increments:\n",
    "    dx = xmax/(nx-1)\n",
    "    dt = sigma * dx**2\n",
    "    nt = int((tmax / dt) - 1)\n",
    "    \n",
    "    # Initialise data structures:\n",
    "    import numpy as np\n",
    "    from math import pi as PI\n",
    "    \n",
    "    u = np.zeros((nx,nt))\n",
    "    x = np.zeros(nx)\n",
    "\n",
    "    # Coefficients\n",
    "    a = np.zeros(nx-2)\n",
    "    b = np.zeros(nx-2)\n",
    "    c = np.zeros(nx-2)\n",
    "    d = np.zeros(nx-2)\n",
    "    \n",
    "    #Constants\n",
    "    r = 0.5\n",
    "\n",
    "    # X Loop\n",
    "    for i in range(0,nx):\n",
    "      x[i] = i*dx\n",
    "\n",
    "    # Initial conditions\n",
    "    u[:,0] = np.sin(PI*x / xmax)\n",
    "\n",
    "    # Dirichlet Boundary Conditions:\n",
    "    # p boundary, left:\n",
    "    u[0,:] = 0.0\n",
    "    # p boundary, right:\n",
    "    u[nx-1,:] = 0.0 \n",
    "    \n",
    "    B1 = 0\n",
    "    B2 = 0\n",
    "    \n",
    "    m=0\n",
    "    i=1\n",
    "\n",
    "    for n in range(0,nt-1):\n",
    "        a[m:nx-2] = - r / 2.0\n",
    "        b[m:nx-2] = 1.0 + r\n",
    "        c[m:nx-2] = - r / 2.0\n",
    "        d[m:nx-2] = ( (r / 2.0) * u[i-1:nx-2, n] +\n",
    "                      (1 - r) * u[i:nx-1, n] +\n",
    "                      (r / 2.0) * u[i+1:nx, n] )\n",
    "\n",
    "        u[i:nx-1, n+1] = TDMAsolver(a, b, c, d)     \n",
    "            \n",
    "    return u, x"
   ]
  },
  {
   "cell_type": "code",
   "execution_count": 13,
   "metadata": {
    "collapsed": false
   },
   "outputs": [],
   "source": [
    "uu, xx = crank_nicholson(0.1, 101, 1.0, 0.5)"
   ]
  },
  {
   "cell_type": "code",
   "execution_count": 14,
   "metadata": {
    "collapsed": false
   },
   "outputs": [],
   "source": [
    "def fourier_equation_analytical(NX, XMAX, T):\n",
    "    \n",
    "    from math import pi as PI\n",
    "    import numpy as np\n",
    "    \n",
    "    # Initialise data structures\n",
    "    u_analytical = np.zeros(NX)\n",
    "    x = np.zeros(NX)\n",
    "\n",
    "    # Constants\n",
    "    DX = XMAX/(NX-1)\n",
    "\n",
    "    # X Loop\n",
    "    for i in range(0, NX):\n",
    "        x[i] = i*DX\n",
    "  \n",
    "    for i in range (0, NX):\n",
    "        u_analytical[i]= ( (np.sin(PI*x[i] / XMAX))*\n",
    "                            np.exp(-1.0*(PI**2)*T / XMAX**2) )\n",
    "        \n",
    "    return u_analytical, x"
   ]
  },
  {
   "cell_type": "code",
   "execution_count": 15,
   "metadata": {
    "collapsed": false
   },
   "outputs": [],
   "source": [
    "uuu, xxx = fourier_equation_analytical(101, 1.0, 0.1)"
   ]
  },
  {
   "cell_type": "code",
   "execution_count": 16,
   "metadata": {
    "collapsed": false
   },
   "outputs": [],
   "source": [
    "def plot_fourier(u_num,u_ana,x4):\n",
    "   \"\"\"\n",
    "   Plots the 1D velocity field\n",
    "   \"\"\"\n",
    "\n",
    "   import matplotlib.pyplot as plt\n",
    "   import matplotlib.cm as cm\n",
    "   plt.figure()\n",
    "   ax=plt.subplot(111)\n",
    "   ax.plot(x4,u_num[:, -1],'ko', markerfacecolor='none', alpha=0.5, label='numerical')\n",
    "   ax.plot(x4,u_ana[:],linestyle='-',c='r',label='analytical')\n",
    "   box=ax.get_position()\n",
    "   ax.set_position([box.x0, box.y0, box.width*1.5,box.height*1.5])\n",
    "   ax.legend( bbox_to_anchor=(1.02,1), loc=2)\n",
    "   plt.xlabel('x (m)')\n",
    "   plt.ylabel('u (K)')\n",
    "   #plt.ylim([0,8.0])\n",
    "   #plt.xlim([0,2.0*PI])\n",
    "   #plt.title(TITLE)\n",
    "   plt.show()"
   ]
  },
  {
   "cell_type": "code",
   "execution_count": 17,
   "metadata": {
    "collapsed": false
   },
   "outputs": [
    {
     "data": {
      "image/png": "[encoded data removed]",
      "text/plain": [
       "<matplotlib.figure.Figure at 0x7fdcdbe5acd0>"
      ]
     },
     "metadata": {},
     "output_type": "display_data"
    }
   ],
   "source": [
    "plot_fourier(uu,uuu,xx)"
   ]
  },
  {
   "cell_type": "code",
   "execution_count": null,
   "metadata": {
    "collapsed": false
   },
   "outputs": [],
   "source": []
  }
 ],
 "metadata": {
  "anaconda-cloud": {},
  "kernelspec": {
   "display_name": "Python [conda root]",
   "language": "python",
   "name": "conda-root-py"
  },
  "language_info": {
   "codemirror_mode": {
    "name": "ipython",
    "version": 3
   },
   "file_extension": ".py",
   "mimetype": "text/x-python",
   "name": "python",
   "nbconvert_exporter": "python",
   "pygments_lexer": "ipython3",
   "version": "3.5.2"
  }
 },
 "nbformat": 4,
 "nbformat_minor": 0
}
